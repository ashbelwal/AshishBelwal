{
 "cells": [
  {
   "cell_type": "markdown",
   "metadata": {},
   "source": [
    "# Simple MNIST NN from scratch\n",
    "\n",
    "In this notebook, I implemented a simple two-layer neural network and trained it on the MNIST digit recognizer dataset. It's meant to be an instructional example, through which you can understand the underlying math of neural networks better.\n",
    "\n",
    "Here's a video I made explaining all the math and showing my progress as I coded the network: https://youtu.be/w8yWXqWQYmU"
   ]
  },
  {
   "cell_type": "code",
   "execution_count": 1,
   "metadata": {
    "_cell_guid": "b1076dfc-b9ad-4769-8c92-a6c4dae69d19",
    "_uuid": "8f2839f25d086af736a60e9eeb907d3b93b6e0e5",
    "trusted": true
   },
   "outputs": [],
   "source": [
    "import numpy as np\n",
    "import pandas as pd\n",
    "from matplotlib import pyplot as plt\n",
    "\n",
    "data = pd.read_csv(r'C:\\Users\\ESANGRAH\\Projects\\Neural-Network\\test\\digit-recognizer\\train.csv')"
   ]
  },
  {
   "cell_type": "code",
   "execution_count": 2,
   "metadata": {
    "trusted": true
   },
   "outputs": [],
   "source": [
    "data = np.array(data)\n",
    "m, n = data.shape\n",
    "np.random.shuffle(data) # shuffle before splitting into dev and training sets\n",
    "\n",
    "data_dev = data[0:1000].T\n",
    "Y_dev = data_dev[0]\n",
    "X_dev = data_dev[1:n]\n",
    "X_dev = X_dev / 255.\n",
    "\n",
    "data_train = data[1000:m].T\n",
    "Y_train = data_train[0]\n",
    "X_train = data_train[1:n]\n",
    "X_train = X_train / 255.\n",
    "_,m_train = X_train.shape"
   ]
  },
  {
   "cell_type": "code",
   "execution_count": 3,
   "metadata": {
    "trusted": true
   },
   "outputs": [
    {
     "data": {
      "text/plain": [
       "array([6, 3, 6, ..., 4, 1, 2])"
      ]
     },
     "execution_count": 3,
     "metadata": {},
     "output_type": "execute_result"
    }
   ],
   "source": [
    "Y_train"
   ]
  },
  {
   "cell_type": "markdown",
   "metadata": {},
   "source": [
    "Our NN will have a simple two-layer architecture. Input layer $a^{[0]}$ will have 784 units corresponding to the 784 pixels in each 28x28 input image. A hidden layer $a^{[1]}$ will have 10 units with ReLU activation, and finally our output layer $a^{[2]}$ will have 10 units corresponding to the ten digit classes with softmax activation.\n",
    "\n",
    "**Forward propagation**\n",
    "\n",
    "$$Z^{[1]} = W^{[1]} X + b^{[1]}$$\n",
    "$$A^{[1]} = g_{\\text{ReLU}}(Z^{[1]}))$$\n",
    "$$Z^{[2]} = W^{[2]} A^{[1]} + b^{[2]}$$\n",
    "$$A^{[2]} = g_{\\text{softmax}}(Z^{[2]})$$\n",
    "\n",
    "**Backward propagation**\n",
    "\n",
    "$$dZ^{[2]} = A^{[2]} - Y$$\n",
    "$$dW^{[2]} = \\frac{1}{m} dZ^{[2]} A^{[1]T}$$\n",
    "$$dB^{[2]} = \\frac{1}{m} \\Sigma {dZ^{[2]}}$$\n",
    "$$dZ^{[1]} = W^{[2]T} dZ^{[2]} .* g^{[1]\\prime} (z^{[1]})$$\n",
    "$$dW^{[1]} = \\frac{1}{m} dZ^{[1]} A^{[0]T}$$\n",
    "$$dB^{[1]} = \\frac{1}{m} \\Sigma {dZ^{[1]}}$$\n",
    "\n",
    "**Parameter updates**\n",
    "\n",
    "$$W^{[2]} := W^{[2]} - \\alpha dW^{[2]}$$\n",
    "$$b^{[2]} := b^{[2]} - \\alpha db^{[2]}$$\n",
    "$$W^{[1]} := W^{[1]} - \\alpha dW^{[1]}$$\n",
    "$$b^{[1]} := b^{[1]} - \\alpha db^{[1]}$$\n",
    "\n",
    "**Vars and shapes**\n",
    "\n",
    "Forward prop\n",
    "\n",
    "- $A^{[0]} = X$: 784 x m\n",
    "- $Z^{[1]} \\sim A^{[1]}$: 10 x m\n",
    "- $W^{[1]}$: 10 x 784 (as $W^{[1]} A^{[0]} \\sim Z^{[1]}$)\n",
    "- $B^{[1]}$: 10 x 1\n",
    "- $Z^{[2]} \\sim A^{[2]}$: 10 x m\n",
    "- $W^{[1]}$: 10 x 10 (as $W^{[2]} A^{[1]} \\sim Z^{[2]}$)\n",
    "- $B^{[2]}$: 10 x 1\n",
    "\n",
    "Backprop\n",
    "\n",
    "- $dZ^{[2]}$: 10 x m ($~A^{[2]}$)\n",
    "- $dW^{[2]}$: 10 x 10\n",
    "- $dB^{[2]}$: 10 x 1\n",
    "- $dZ^{[1]}$: 10 x m ($~A^{[1]}$)\n",
    "- $dW^{[1]}$: 10 x 10\n",
    "- $dB^{[1]}$: 10 x 1"
   ]
  },
  {
   "cell_type": "code",
   "execution_count": 4,
   "metadata": {
    "trusted": true
   },
   "outputs": [],
   "source": [
    "def init_params():\n",
    "    W1 = np.random.rand(10, 784) - 0.5\n",
    "    b1 = np.random.rand(10, 1) - 0.5\n",
    "    W2 = np.random.rand(10, 10) - 0.5\n",
    "    b2 = np.random.rand(10, 1) - 0.5\n",
    "    return W1, b1, W2, b2\n",
    "\n",
    "def ReLU(Z):\n",
    "    return np.maximum(Z, 0)\n",
    "\n",
    "def softmax(Z):\n",
    "    A = np.exp(Z) / sum(np.exp(Z))\n",
    "    return A\n",
    "    \n",
    "def forward_prop(W1, b1, W2, b2, X):\n",
    "    Z1 = W1.dot(X) + b1\n",
    "    A1 = ReLU(Z1)\n",
    "    Z2 = W2.dot(A1) + b2\n",
    "    A2 = softmax(Z2)\n",
    "    return Z1, A1, Z2, A2\n",
    "\n",
    "def ReLU_deriv(Z):\n",
    "    return Z > 0\n",
    "\n",
    "def one_hot(Y):\n",
    "    one_hot_Y = np.zeros((Y.size, Y.max() + 1))\n",
    "    one_hot_Y[np.arange(Y.size), Y] = 1\n",
    "    one_hot_Y = one_hot_Y.T\n",
    "    return one_hot_Y\n",
    "\n",
    "def backward_prop(Z1, A1, Z2, A2, W1, W2, X, Y):\n",
    "    one_hot_Y = one_hot(Y)\n",
    "    dZ2 = A2 - one_hot_Y\n",
    "    dW2 = 1 / m * dZ2.dot(A1.T)\n",
    "    db2 = 1 / m * np.sum(dZ2)\n",
    "    dZ1 = W2.T.dot(dZ2) * ReLU_deriv(Z1)\n",
    "    dW1 = 1 / m * dZ1.dot(X.T)\n",
    "    db1 = 1 / m * np.sum(dZ1)\n",
    "    return dW1, db1, dW2, db2\n",
    "\n",
    "def update_params(W1, b1, W2, b2, dW1, db1, dW2, db2, alpha):\n",
    "    W1 = W1 - alpha * dW1\n",
    "    b1 = b1 - alpha * db1    \n",
    "    W2 = W2 - alpha * dW2  \n",
    "    b2 = b2 - alpha * db2    \n",
    "    return W1, b1, W2, b2"
   ]
  },
  {
   "cell_type": "code",
   "execution_count": 5,
   "metadata": {
    "trusted": true
   },
   "outputs": [],
   "source": [
    "def get_predictions(A2):\n",
    "    return np.argmax(A2, 0)\n",
    "\n",
    "def get_accuracy(predictions, Y):\n",
    "    print(predictions, Y)\n",
    "    return np.sum(predictions == Y) / Y.size\n",
    "\n",
    "def gradient_descent(X, Y, alpha, iterations):\n",
    "    W1, b1, W2, b2 = init_params()\n",
    "    for i in range(iterations):\n",
    "        Z1, A1, Z2, A2 = forward_prop(W1, b1, W2, b2, X)\n",
    "        dW1, db1, dW2, db2 = backward_prop(Z1, A1, Z2, A2, W1, W2, X, Y)\n",
    "        W1, b1, W2, b2 = update_params(W1, b1, W2, b2, dW1, db1, dW2, db2, alpha)\n",
    "        if i % 10 == 0:\n",
    "            print(\"Iteration: \", i)\n",
    "            predictions = get_predictions(A2)\n",
    "            print(get_accuracy(predictions, Y))\n",
    "    return W1, b1, W2, b2"
   ]
  },
  {
   "cell_type": "code",
   "execution_count": 6,
   "metadata": {
    "trusted": true
   },
   "outputs": [
    {
     "name": "stdout",
     "output_type": "stream",
     "text": [
      "Iteration:  0\n",
      "[5 2 6 ... 2 2 6] [6 3 6 ... 4 1 2]\n",
      "0.1024390243902439\n",
      "Iteration:  10\n",
      "[6 2 6 ... 2 8 7] [6 3 6 ... 4 1 2]\n",
      "0.15797560975609756\n",
      "Iteration:  20\n",
      "[0 3 6 ... 2 8 7] [6 3 6 ... 4 1 2]\n",
      "0.19963414634146343\n",
      "Iteration:  30\n",
      "[0 3 6 ... 2 7 7] [6 3 6 ... 4 1 2]\n",
      "0.22978048780487806\n",
      "Iteration:  40\n",
      "[0 3 6 ... 0 7 7] [6 3 6 ... 4 1 2]\n",
      "0.26707317073170733\n",
      "Iteration:  50\n",
      "[0 3 6 ... 0 1 7] [6 3 6 ... 4 1 2]\n",
      "0.3402439024390244\n",
      "Iteration:  60\n",
      "[0 3 6 ... 0 1 7] [6 3 6 ... 4 1 2]\n",
      "0.407780487804878\n",
      "Iteration:  70\n",
      "[0 3 6 ... 0 1 7] [6 3 6 ... 4 1 2]\n",
      "0.46134146341463417\n",
      "Iteration:  80\n",
      "[6 3 6 ... 0 1 7] [6 3 6 ... 4 1 2]\n",
      "0.5067560975609756\n",
      "Iteration:  90\n",
      "[6 3 6 ... 0 1 7] [6 3 6 ... 4 1 2]\n",
      "0.5448780487804878\n",
      "Iteration:  100\n",
      "[6 3 6 ... 4 1 7] [6 3 6 ... 4 1 2]\n",
      "0.5739512195121951\n",
      "Iteration:  110\n",
      "[6 3 6 ... 4 1 7] [6 3 6 ... 4 1 2]\n",
      "0.5993414634146341\n",
      "Iteration:  120\n",
      "[6 3 6 ... 4 1 7] [6 3 6 ... 4 1 2]\n",
      "0.6205365853658537\n",
      "Iteration:  130\n",
      "[6 3 6 ... 4 1 7] [6 3 6 ... 4 1 2]\n",
      "0.6388780487804878\n",
      "Iteration:  140\n",
      "[6 3 6 ... 4 1 7] [6 3 6 ... 4 1 2]\n",
      "0.6540975609756098\n",
      "Iteration:  150\n",
      "[6 3 6 ... 4 1 7] [6 3 6 ... 4 1 2]\n",
      "0.6679268292682927\n",
      "Iteration:  160\n",
      "[6 3 6 ... 4 1 7] [6 3 6 ... 4 1 2]\n",
      "0.6816341463414635\n",
      "Iteration:  170\n",
      "[6 3 6 ... 4 1 7] [6 3 6 ... 4 1 2]\n",
      "0.6928048780487804\n",
      "Iteration:  180\n",
      "[6 3 6 ... 4 1 7] [6 3 6 ... 4 1 2]\n",
      "0.7035853658536585\n",
      "Iteration:  190\n",
      "[6 3 6 ... 4 1 7] [6 3 6 ... 4 1 2]\n",
      "0.7131951219512195\n",
      "Iteration:  200\n",
      "[6 3 6 ... 4 1 7] [6 3 6 ... 4 1 2]\n",
      "0.7224878048780488\n",
      "Iteration:  210\n",
      "[6 3 6 ... 4 1 7] [6 3 6 ... 4 1 2]\n",
      "0.7310243902439024\n",
      "Iteration:  220\n",
      "[6 3 6 ... 4 1 7] [6 3 6 ... 4 1 2]\n",
      "0.7398292682926829\n",
      "Iteration:  230\n",
      "[6 3 6 ... 4 1 7] [6 3 6 ... 4 1 2]\n",
      "0.7477317073170732\n",
      "Iteration:  240\n",
      "[6 3 6 ... 4 1 7] [6 3 6 ... 4 1 2]\n",
      "0.7550487804878049\n",
      "Iteration:  250\n",
      "[6 3 6 ... 4 1 7] [6 3 6 ... 4 1 2]\n",
      "0.7620243902439024\n",
      "Iteration:  260\n",
      "[6 3 6 ... 4 1 7] [6 3 6 ... 4 1 2]\n",
      "0.7689268292682927\n",
      "Iteration:  270\n",
      "[6 3 6 ... 4 1 7] [6 3 6 ... 4 1 2]\n",
      "0.7747073170731708\n",
      "Iteration:  280\n",
      "[6 3 6 ... 4 1 7] [6 3 6 ... 4 1 2]\n",
      "0.7809268292682927\n",
      "Iteration:  290\n",
      "[6 3 6 ... 4 1 7] [6 3 6 ... 4 1 2]\n",
      "0.7867317073170732\n",
      "Iteration:  300\n",
      "[6 3 6 ... 4 1 7] [6 3 6 ... 4 1 2]\n",
      "0.7917560975609756\n",
      "Iteration:  310\n",
      "[6 3 6 ... 4 1 7] [6 3 6 ... 4 1 2]\n",
      "0.7962439024390244\n",
      "Iteration:  320\n",
      "[6 3 6 ... 4 1 7] [6 3 6 ... 4 1 2]\n",
      "0.8003902439024391\n",
      "Iteration:  330\n",
      "[6 3 6 ... 4 1 7] [6 3 6 ... 4 1 2]\n",
      "0.8041463414634147\n",
      "Iteration:  340\n",
      "[6 3 6 ... 4 1 7] [6 3 6 ... 4 1 2]\n",
      "0.8071463414634147\n",
      "Iteration:  350\n",
      "[6 3 6 ... 4 1 7] [6 3 6 ... 4 1 2]\n",
      "0.810439024390244\n",
      "Iteration:  360\n",
      "[6 3 6 ... 4 1 7] [6 3 6 ... 4 1 2]\n",
      "0.8137317073170731\n",
      "Iteration:  370\n",
      "[6 3 6 ... 4 1 7] [6 3 6 ... 4 1 2]\n",
      "0.8166829268292682\n",
      "Iteration:  380\n",
      "[6 3 6 ... 4 1 7] [6 3 6 ... 4 1 2]\n",
      "0.8197317073170731\n",
      "Iteration:  390\n",
      "[6 3 6 ... 4 1 7] [6 3 6 ... 4 1 2]\n",
      "0.8225853658536585\n",
      "Iteration:  400\n",
      "[6 3 6 ... 4 1 7] [6 3 6 ... 4 1 2]\n",
      "0.8254146341463414\n",
      "Iteration:  410\n",
      "[6 3 6 ... 4 1 7] [6 3 6 ... 4 1 2]\n",
      "0.827560975609756\n",
      "Iteration:  420\n",
      "[6 3 6 ... 4 1 7] [6 3 6 ... 4 1 2]\n",
      "0.8298536585365853\n",
      "Iteration:  430\n",
      "[6 3 6 ... 4 1 7] [6 3 6 ... 4 1 2]\n",
      "0.8324390243902439\n",
      "Iteration:  440\n",
      "[6 3 6 ... 4 1 7] [6 3 6 ... 4 1 2]\n",
      "0.8348536585365853\n",
      "Iteration:  450\n",
      "[6 3 6 ... 4 1 7] [6 3 6 ... 4 1 2]\n",
      "0.8366829268292683\n",
      "Iteration:  460\n",
      "[6 3 6 ... 4 1 7] [6 3 6 ... 4 1 2]\n",
      "0.8384146341463414\n",
      "Iteration:  470\n",
      "[6 3 6 ... 4 1 7] [6 3 6 ... 4 1 2]\n",
      "0.84\n",
      "Iteration:  480\n",
      "[6 3 6 ... 4 1 7] [6 3 6 ... 4 1 2]\n",
      "0.8415853658536585\n",
      "Iteration:  490\n",
      "[6 3 6 ... 4 1 7] [6 3 6 ... 4 1 2]\n",
      "0.8429512195121951\n"
     ]
    }
   ],
   "source": [
    "W1, b1, W2, b2 = gradient_descent(X_train, Y_train, 0.10, 500)"
   ]
  },
  {
   "cell_type": "markdown",
   "metadata": {},
   "source": [
    "~85% accuracy on training set."
   ]
  },
  {
   "cell_type": "code",
   "execution_count": 8,
   "metadata": {
    "trusted": true
   },
   "outputs": [],
   "source": [
    "def make_predictions(X, W1, b1, W2, b2):\n",
    "    _, _, _, A2 = forward_prop(W1, b1, W2, b2, X)\n",
    "    predictions = get_predictions(A2)\n",
    "    return predictions\n",
    "\n",
    "def test_prediction(index, W1, b1, W2, b2):\n",
    "    current_image = X_train[:, index, None]\n",
    "    prediction = make_predictions(X_train[:, index, None], W1, b1, W2, b2)\n",
    "    label = Y_train[index]\n",
    "    print(\"Prediction: \", prediction)\n",
    "    print(\"Label: \", label)\n",
    "    \n",
    "    current_image = current_image.reshape((28, 28)) * 255\n",
    "    plt.gray()\n",
    "    plt.imshow(current_image, interpolation='nearest')\n",
    "    plt.show()"
   ]
  },
  {
   "cell_type": "markdown",
   "metadata": {},
   "source": [
    "Let's look at a couple of examples:"
   ]
  },
  {
   "cell_type": "code",
   "execution_count": 9,
   "metadata": {
    "trusted": true
   },
   "outputs": [
    {
     "name": "stdout",
     "output_type": "stream",
     "text": [
      "Prediction:  [6]\n",
      "Label:  6\n"
     ]
    },
    {
     "data": {
      "image/png": "[encoded data removed]",
      "text/plain": [
       "<Figure size 640x480 with 1 Axes>"
      ]
     },
     "metadata": {},
     "output_type": "display_data"
    },
    {
     "name": "stdout",
     "output_type": "stream",
     "text": [
      "Prediction:  [3]\n",
      "Label:  3\n"
     ]
    },
    {
     "data": {
      "image/png": "[encoded data removed]",
      "text/plain": [
       "<Figure size 640x480 with 1 Axes>"
      ]
     },
     "metadata": {},
     "output_type": "display_data"
    },
    {
     "name": "stdout",
     "output_type": "stream",
     "text": [
      "Prediction:  [6]\n",
      "Label:  6\n"
     ]
    },
    {
     "data": {
      "image/png": "[encoded data removed]",
      "text/plain": [
       "<Figure size 640x480 with 1 Axes>"
      ]
     },
     "metadata": {},
     "output_type": "display_data"
    },
    {
     "name": "stdout",
     "output_type": "stream",
     "text": [
      "Prediction:  [6]\n",
      "Label:  6\n"
     ]
    },
    {
     "data": {
      "image/png": "[encoded data removed]",
      "text/plain": [
       "<Figure size 640x480 with 1 Axes>"
      ]
     },
     "metadata": {},
     "output_type": "display_data"
    }
   ],
   "source": [
    "test_prediction(0, W1, b1, W2, b2)\n",
    "test_prediction(1, W1, b1, W2, b2)\n",
    "test_prediction(2, W1, b1, W2, b2)\n",
    "test_prediction(3, W1, b1, W2, b2)"
   ]
  },
  {
   "cell_type": "markdown",
   "metadata": {},
   "source": [
    "Finally, let's find the accuracy on the dev set:"
   ]
  },
  {
   "cell_type": "code",
   "execution_count": 10,
   "metadata": {
    "trusted": true
   },
   "outputs": [
    {
     "name": "stdout",
     "output_type": "stream",
     "text": [
      "[8 7 1 4 4 1 1 2 8 1 2 8 0 3 4 1 0 9 0 6 7 8 9 2 7 9 2 6 0 4 0 1 2 5 2 1 6\n",
      " 0 8 3 7 4 2 5 6 9 6 4 7 7 1 4 1 9 4 9 2 9 4 0 7 8 4 9 3 0 0 4 1 8 7 2 0 7\n",
      " 4 4 9 2 5 7 0 4 0 9 4 9 3 8 9 1 7 8 9 7 1 3 0 2 5 5 0 5 2 2 5 9 3 1 4 8 1\n",
      " 1 8 1 9 7 1 4 7 1 9 5 3 5 1 9 1 6 1 4 3 3 8 0 2 9 4 1 8 7 3 0 1 1 5 7 0 7\n",
      " 3 6 1 1 1 2 8 6 7 3 0 8 7 1 2 2 1 9 4 6 0 7 9 2 7 9 2 7 9 0 4 6 8 5 0 0 0\n",
      " 7 9 5 9 4 5 4 8 3 9 2 6 0 7 0 9 1 9 8 7 3 3 6 5 6 1 8 0 1 5 7 0 1 7 5 7 6\n",
      " 7 0 2 7 6 8 8 9 6 9 0 9 8 1 1 7 3 5 9 6 6 9 5 7 6 0 5 0 9 1 9 7 4 5 9 5 0\n",
      " 2 9 9 0 1 5 3 6 0 4 9 9 5 7 9 0 2 0 8 1 1 9 8 5 9 1 7 0 8 4 8 7 8 4 9 8 0\n",
      " 3 1 7 6 0 4 0 3 4 1 3 2 6 4 7 6 7 9 6 2 5 3 5 9 8 4 7 9 5 5 6 0 4 7 9 9 6\n",
      " 6 0 4 3 7 8 8 7 2 6 2 4 9 9 3 7 6 3 9 1 4 5 0 7 4 1 8 8 8 8 3 1 7 6 5 8 1\n",
      " 1 0 8 5 8 4 6 4 0 6 7 0 1 3 4 5 9 6 2 3 2 3 0 0 7 9 6 5 5 6 8 8 7 6 9 7 4\n",
      " 8 0 6 3 7 1 6 3 7 1 1 0 7 1 2 2 5 7 6 4 1 7 8 0 6 2 7 7 8 7 3 6 1 6 9 5 8\n",
      " 2 1 2 1 8 0 4 6 7 6 3 0 3 6 6 7 6 0 2 7 0 5 7 0 3 4 3 0 0 3 2 8 0 2 5 4 4\n",
      " 2 0 1 3 1 5 1 0 4 3 1 0 6 8 2 5 3 9 1 1 5 0 9 5 1 0 1 8 7 8 4 6 8 3 2 4 4\n",
      " 8 5 3 8 3 6 7 2 2 8 1 3 7 5 0 6 3 0 8 7 1 9 4 3 9 0 3 6 8 2 1 1 0 6 8 9 1\n",
      " 1 2 5 9 8 9 7 0 0 9 1 9 2 5 3 2 8 9 3 7 4 1 6 2 0 1 3 2 8 3 3 3 7 2 7 2 3\n",
      " 3 2 0 2 5 8 2 4 6 7 2 0 7 8 8 5 7 2 2 4 7 0 0 1 9 1 0 1 4 2 6 5 8 2 3 4 8\n",
      " 4 4 3 8 4 0 9 6 8 4 4 6 8 2 8 0 9 4 7 7 8 7 3 7 0 5 9 1 9 9 5 1 9 3 0 7 8\n",
      " 6 3 0 5 8 6 2 8 1 3 7 9 9 9 9 8 4 8 8 3 4 0 4 3 1 9 0 1 5 8 8 5 2 4 7 0 9\n",
      " 5 9 5 6 6 7 7 5 2 2 8 3 6 8 9 2 9 5 8 7 0 0 8 3 7 6 2 1 3 1 8 6 8 3 9 4 8\n",
      " 5 7 4 9 9 7 5 2 4 1 0 6 1 4 9 3 5 5 1 2 0 6 4 7 5 8 3 3 7 6 0 1 6 3 8 2 2\n",
      " 7 6 9 4 8 8 4 0 3 6 7 1 4 4 0 0 8 2 4 9 1 0 0 1 0 2 4 0 5 8 7 5 5 1 7 8 0\n",
      " 1 1 3 9 1 8 3 9 0 3 4 8 9 3 8 1 0 2 1 5 4 4 0 8 6 5 1 4 6 3 4 9 3 0 7 3 2\n",
      " 6 0 8 8 5 9 1 9 4 6 0 3 8 1 3 5 5 3 1 0 9 3 1 8 4 2 7 5 4 0 1 9 2 6 8 8 6\n",
      " 8 4 2 8 7 1 2 8 3 9 5 4 0 6 3 6 7 6 6 4 0 3 0 0 1 6 3 4 6 0 8 4 1 0 5 1 0\n",
      " 2 0 1 1 2 7 1 6 5 4 0 6 4 4 9 8 4 9 6 7 4 8 6 4 2 8 1 2 8 7 9 8 7 0 9 1 4\n",
      " 3 6 0 7 3 6 9 8 8 8 6 4 9 1 2 4 1 2 8 5 6 6 6 2 0 3 4 2 4 5 9 9 0 2 3 7 6\n",
      " 3] [8 7 8 4 4 1 1 2 8 1 2 8 0 3 4 1 0 3 0 6 7 8 9 2 7 9 2 6 0 4 0 1 2 0 2 1 6\n",
      " 6 8 3 7 4 2 5 6 9 6 2 7 7 1 4 1 9 4 9 2 9 2 0 7 8 4 9 8 0 0 8 1 8 9 9 0 8\n",
      " 4 4 9 3 6 5 5 4 0 9 4 9 3 3 8 5 7 0 9 7 1 3 0 2 5 5 0 3 2 2 5 7 3 1 4 9 1\n",
      " 1 8 1 9 7 1 4 7 1 9 5 3 5 1 9 1 6 1 4 3 3 8 0 2 9 4 1 8 7 3 0 1 1 6 7 0 7\n",
      " 3 6 1 1 1 2 8 6 7 3 0 8 7 1 2 2 1 9 4 6 0 7 8 2 7 7 2 7 7 6 4 6 8 5 0 0 9\n",
      " 7 9 5 9 4 8 4 3 3 9 2 6 0 7 0 9 1 2 8 7 1 3 6 5 6 1 8 0 1 8 7 0 1 7 1 7 6\n",
      " 7 0 3 7 6 8 3 9 6 9 0 9 8 1 1 7 9 5 9 6 6 7 5 7 6 0 8 0 7 1 9 1 4 5 4 5 0\n",
      " 2 9 9 0 1 5 3 5 0 2 9 9 5 7 8 0 2 0 8 1 8 9 0 5 5 1 7 8 8 4 8 7 8 4 9 8 0\n",
      " 3 1 7 6 5 4 0 2 4 1 5 9 6 4 7 6 7 9 6 2 5 3 5 9 3 4 7 9 5 5 6 0 4 7 5 9 6\n",
      " 6 8 4 3 7 8 8 7 2 6 2 9 9 9 3 7 6 8 9 1 4 5 0 7 4 1 8 9 5 8 5 1 9 6 8 8 1\n",
      " 1 2 5 5 8 4 6 2 0 6 7 0 1 3 4 5 8 6 2 3 2 3 0 0 7 9 6 5 1 6 8 8 7 6 8 7 4\n",
      " 8 0 6 3 7 1 6 5 7 1 1 0 9 2 2 2 5 7 6 4 1 2 8 0 6 2 7 7 5 7 3 6 1 6 9 5 8\n",
      " 2 1 2 6 8 0 4 6 7 6 3 0 3 6 6 7 6 0 3 7 0 3 7 0 3 7 3 0 0 5 2 2 0 2 5 4 4\n",
      " 2 0 1 3 1 5 1 0 4 5 1 0 6 8 2 5 3 9 1 1 5 2 9 5 1 0 1 8 7 2 4 6 5 3 2 4 4\n",
      " 8 8 3 8 5 6 7 2 2 8 1 3 7 5 0 6 8 0 8 7 1 9 4 3 4 0 3 6 1 2 1 1 0 6 8 9 1\n",
      " 1 2 5 9 8 4 7 7 5 9 1 9 2 5 3 2 8 7 3 7 4 1 6 2 0 1 3 2 5 3 3 3 7 3 9 4 3\n",
      " 3 2 0 2 5 5 2 4 6 7 3 0 7 8 8 0 7 2 2 4 7 0 0 1 9 1 0 1 4 2 6 5 8 2 3 4 8\n",
      " 6 4 2 8 4 0 9 6 8 4 4 6 8 2 8 0 9 4 2 7 8 7 2 7 0 5 9 1 4 9 5 1 9 3 0 2 9\n",
      " 6 8 0 6 8 6 2 8 1 3 7 9 9 9 9 8 4 8 8 3 4 0 4 3 1 9 0 1 8 8 2 5 2 4 7 0 9\n",
      " 5 9 5 6 6 7 9 8 2 6 8 3 6 8 9 2 9 5 2 7 0 0 8 3 7 6 2 1 3 1 8 6 8 1 5 4 8\n",
      " 8 7 8 9 9 7 5 2 4 1 0 6 1 4 9 3 5 5 1 2 0 5 4 7 5 8 3 3 7 6 0 7 6 3 8 2 2\n",
      " 0 6 9 4 8 8 9 0 3 6 7 1 4 4 0 6 5 2 4 4 1 0 0 1 0 2 4 0 5 8 7 5 5 1 7 8 0\n",
      " 1 1 3 2 1 9 3 9 2 3 9 8 9 3 8 1 0 2 1 5 4 4 0 9 6 5 1 4 6 3 4 9 3 0 7 3 2\n",
      " 6 0 8 8 6 9 1 9 4 6 0 3 8 1 3 6 5 3 1 6 9 3 1 8 4 2 9 3 4 0 1 9 3 6 9 8 6\n",
      " 8 4 0 8 7 1 7 8 3 9 5 4 6 6 3 6 8 6 6 5 0 3 0 0 1 6 3 4 6 0 3 4 1 0 5 3 0\n",
      " 2 0 1 1 3 7 1 6 5 4 0 4 9 4 9 8 4 9 6 7 4 2 6 4 2 5 5 3 3 9 9 8 7 0 9 1 4\n",
      " 5 6 0 7 3 6 9 8 8 8 6 4 9 1 2 8 1 2 8 5 6 6 6 2 0 3 4 2 4 5 9 7 0 2 1 7 6\n",
      " 3]\n"
     ]
    },
    {
     "data": {
      "text/plain": [
       "np.float64(0.842)"
      ]
     },
     "execution_count": 10,
     "metadata": {},
     "output_type": "execute_result"
    }
   ],
   "source": [
    "dev_predictions = make_predictions(X_dev, W1, b1, W2, b2)\n",
    "get_accuracy(dev_predictions, Y_dev)"
   ]
  },
  {
   "cell_type": "markdown",
   "metadata": {},
   "source": [
    "Still 84% accuracy, so our model generalized from the training data pretty well."
   ]
  }
 ],
 "metadata": {
  "kaggle": {
   "accelerator": "none",
   "dataSources": [
    {
     "databundleVersionId": 861823,
     "sourceId": 3004,
     "sourceType": "competition"
    }
   ],
   "dockerImageVersionId": 30035,
   "isGpuEnabled": false,
   "isInternetEnabled": true,
   "language": "python",
   "sourceType": "notebook"
  },
  "kernelspec": {
   "display_name": "Python 3",
   "language": "python",
   "name": "python3"
  },
  "language_info": {
   "codemirror_mode": {
    "name": "ipython",
    "version": 3
   },
   "file_extension": ".py",
   "mimetype": "text/x-python",
   "name": "python",
   "nbconvert_exporter": "python",
   "pygments_lexer": "ipython3",
   "version": "3.12.3"
  }
 },
 "nbformat": 4,
 "nbformat_minor": 4
}
